{
 "cells": [
  {
   "cell_type": "code",
   "execution_count": null,
   "source": [
    "from selenium import webdriver"
   ],
   "outputs": [],
   "metadata": {}
  },
  {
   "cell_type": "code",
   "execution_count": null,
   "source": [],
   "outputs": [],
   "metadata": {}
  },
  {
   "cell_type": "code",
   "execution_count": null,
   "source": [
    "options = webdriver.ChromeOptions()\n",
    "\n",
    "options.add_argument('headless')\n",
    "\n",
    "\n",
    "\n",
    "browser = webdriver.Chrome(options=options)\n",
    "\n",
    "\n",
    "\n",
    "url = \"https://www.google.com/maps/place/Papa+John's+Pizza/@40.7936551,-74.0124687,17z/data=!3m1!4b1!4m5!3m4!1s0x89c2580eaa74451b:0x15d743e4f841e5ed!8m2!3d40.7936551!4d-74.0124687\"\n",
    "\n",
    "# url = \"https://www.google.com/maps/place/Lucky+Dhaba/@30.653792,76.8165233,17z/data=!3m1!4b1!4m5!3m4!1s0x390feb3e3de1a031:0x862036ab85567f75!8m2!3d30.653792!4d76.818712\"\n",
    "\n",
    "\n",
    "\n",
    "browser.get(url)\n",
    "\n",
    "\n",
    "\n",
    "# review titles / username / Person who reviews\n",
    "\n",
    "review_titles = browser.find_elements_by_class_name(\"section-review-title\")\n",
    "\n",
    "print([a.text for a in review_titles])\n",
    "\n",
    "# review text / what did they think\n",
    "\n",
    "review_text = browser.find_elements_by_class_name(\"section-review-review-content\")\n",
    "\n",
    "print([a.text for a in review_text])\n",
    "\n",
    "# get the number of stars\n",
    "\n",
    "stars = browser.find_elements_by_class_name(\"section-review-stars\")\n",
    "\n",
    "first_review_stars = stars[0]\n",
    "\n",
    "active_stars = first_review_stars.find_elements_by_class_name(\"section-review-star-active\")\n",
    "\n",
    "print(f\"the stars the first review got was {len(active_stars)}\")\n",
    "\n"
   ],
   "outputs": [],
   "metadata": {}
  }
 ],
 "metadata": {
  "orig_nbformat": 4,
  "language_info": {
   "name": "python",
   "version": "3.7.9"
  },
  "kernelspec": {
   "name": "python3",
   "display_name": "Python 3.7.9 64-bit ('PythonData': conda)"
  },
  "interpreter": {
   "hash": "4c937020ede235a2d4c8498f74e8e0815f361a09d40bc11f5adda0cea3be287e"
  }
 },
 "nbformat": 4,
 "nbformat_minor": 2
}